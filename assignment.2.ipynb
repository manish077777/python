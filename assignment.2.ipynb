{
 "cells": [
  {
   "cell_type": "code",
   "execution_count": 4,
   "id": "e904c9d2-3da1-40db-b7b0-e8c389faeed8",
   "metadata": {},
   "outputs": [
    {
     "name": "stdout",
     "output_type": "stream",
     "text": [
      "Hello Manish\n",
      "Good Moring Manish\n"
     ]
    }
   ],
   "source": [
    "#Write a function greet that takes two arguments: name (a string) and greeting (a string with a default value of \"Hello\"). The function should return a greeting message.\n",
    "def greet(name,greeting=\"Hello\"):#creat funtion for greeting\n",
    "    print(f\"{greeting} {name}\")#using formatting string to display a message\n",
    "\n",
    "#call a greet function\n",
    "greet(\"Manish\")\n",
    "greet(\"Manish\",\"Good Moring\")"
   ]
  },
  {
   "cell_type": "code",
   "execution_count": 6,
   "id": "5dfae22d-b007-4e61-b736-250f9f372067",
   "metadata": {},
   "outputs": [
    {
     "name": "stdout",
     "output_type": "stream",
     "text": [
      "Name:Manish,Age:21,City:jhunjhunu\n",
      "Name:Manish,Age:21,City:jhunjhunu\n"
     ]
    }
   ],
   "source": [
    "#Create a function create_profile that takes arguments for name, age, and city as named arguments. The function should return a string like \"Name: Alice, Age: 25, City: New York\". Ensure that the age argument has a default value of 18.\n",
    "def create_profile(name,city,age=21):\n",
    "    #using formatting string to display a message\n",
    "    print(f\"Name:{name},Age:{age},City:{city}\")\n",
    "\n",
    "create_profile(name=\"Manish\", city =\"jhunjhunu\")\n",
    "create_profile(name=\"Manish\", age=21,city=\"jhunjhunu\")"
   ]
  },
  {
   "cell_type": "code",
   "execution_count": 13,
   "id": "3ed75ed8-fb44-4e1a-98ab-8c419c5fc235",
   "metadata": {},
   "outputs": [
    {
     "data": {
      "text/plain": [
       "(3, {'x': 4, 'y': 5})"
      ]
     },
     "execution_count": 13,
     "metadata": {},
     "output_type": "execute_result"
    }
   ],
   "source": [
    "#Write a function sum_numbers that takes any number of positional arguments (args) and keyword arguments (*kwargs)\n",
    "def sum_numbers(*args, **kwargs):\n",
    "    #sum of all *args\n",
    "    sum_of_args = sum(arg for arg in args if isinstance(arg, (int, float)))\n",
    "\n",
    "    #Return a dictionary of all keyword arguments\n",
    "    return sum_of_args, kwargs\n",
    "sum_numbers(1,2,3,)\n",
    "sum_numbers(1,2,x=4,y=5)"
   ]
  },
  {
   "cell_type": "code",
   "execution_count": 15,
   "id": "ee0be107-638f-496c-b7fe-0e3e95d3ec0b",
   "metadata": {},
   "outputs": [
    {
     "data": {
      "text/plain": [
       "[1, 4, 9, 16, 25]"
      ]
     },
     "execution_count": 15,
     "metadata": {},
     "output_type": "execute_result"
    }
   ],
   "source": [
    "#Write a function that uses map and a lambda to return a list where each element is squared.\n",
    "def square_list(lst):\n",
    "    return list(map(lambda x:x*x,lst))\n",
    "\n",
    "square_list([1,2,3,4,5])"
   ]
  },
  {
   "cell_type": "code",
   "execution_count": 22,
   "id": "613aca6c-6c94-4a56-9b0d-eca0c3f2b0c2",
   "metadata": {},
   "outputs": [
    {
     "name": "stdout",
     "output_type": "stream",
     "text": [
      "[2, 4]\n"
     ]
    }
   ],
   "source": [
    "#Write a function that filters out all odd numbers from a list using filter and a lambda function.\n",
    "\n",
    "def Filter_(lst):\n",
    "    return list(filter(lambda x: x %2 ==0,lst))\n",
    "\n",
    "filtered_list = Filter_([1, 2, 3, 4, 5])\n",
    "print(filtered_list)"
   ]
  },
  {
   "cell_type": "code",
   "execution_count": 25,
   "id": "285206fe-a4ab-4426-a9a7-e51a5171a12a",
   "metadata": {},
   "outputs": [
    {
     "data": {
      "text/plain": [
       "[0, 1, 4, 9, 16]"
      ]
     },
     "execution_count": 25,
     "metadata": {},
     "output_type": "execute_result"
    }
   ],
   "source": [
    "#Create a list comprehension that takes a list of numbers and returns a list of their squares.\n",
    "def square_list_comp():\n",
    "    list = [x**2 for x in range(5)]\n",
    "    return list\n",
    "\n",
    "square_list_comp()"
   ]
  },
  {
   "cell_type": "code",
   "execution_count": 26,
   "id": "b112efc7-c93c-463c-9d6e-3f95b2601d37",
   "metadata": {},
   "outputs": [
    {
     "data": {
      "text/plain": [
       "[2, 4, 6, 8, 10, 12, 14, 16, 18, 20]"
      ]
     },
     "execution_count": 26,
     "metadata": {},
     "output_type": "execute_result"
    }
   ],
   "source": [
    "#Use a list comprehension to create a list of even numbers from 1 to 20.\n",
    "def list_even():\n",
    "    list = [x for x in range(1,21) if x %2 ==0]\n",
    "    return list\n",
    "\n",
    "list_even()"
   ]
  },
  {
   "cell_type": "code",
   "execution_count": 27,
   "id": "d040722d-cd54-40b1-8ce7-941f98e86ce4",
   "metadata": {},
   "outputs": [
    {
     "name": "stdout",
     "output_type": "stream",
     "text": [
      "Directory 'test_folder' created\n",
      "paused for 3 seconds\n",
      "Directory 'test_folder' deleted\n"
     ]
    }
   ],
   "source": [
    "#Write a function file_operations that creates a directory named \"test_folder\" using os.makedirs(). Then, pause the execution for 3 seconds using time.sleep(), and finally, delete the directory using os.rmdir()\n",
    "import os\n",
    "import time\n",
    "\n",
    "def file_operation():\n",
    "\n",
    "    #create folder\n",
    "    os.makedirs(\"Test_Folder\")\n",
    "    print(\"Directory 'test_folder' created\")\n",
    "\n",
    "    #paused for 3 seconds\n",
    "    print(\"paused for 3 seconds\")\n",
    "    time.sleep(3)\n",
    "\n",
    "    #folder is delete from system \n",
    "    os.rmdir(\"test_folder\")\n",
    "    print(\"Directory 'test_folder' deleted\")\n",
    "\n",
    "file_operation()"
   ]
  },
  {
   "cell_type": "code",
   "execution_count": 28,
   "id": "ad7af2ed-2336-4fc4-956b-24b30355cf2a",
   "metadata": {},
   "outputs": [
    {
     "name": "stdout",
     "output_type": "stream",
     "text": [
      "Paused Execution.....\n",
      "program End\n"
     ]
    }
   ],
   "source": [
    "# Importing Specific Functions\n",
    "from time import sleep as pause\n",
    "\n",
    "def pause(times):\n",
    "\n",
    "    #first message\n",
    "    print(\"Paused Execution.....\")\n",
    "\n",
    "    #paused execution of program\n",
    "    time.sleep(times)\n",
    "\n",
    "    #final message\n",
    "    print(\"program End\")\n",
    "\n",
    "#function call\n",
    "pause(10)"
   ]
  },
  {
   "cell_type": "code",
   "execution_count": 30,
   "id": "3ccf2741-8958-491f-a5f5-4d4a05b3b031",
   "metadata": {},
   "outputs": [
    {
     "name": "stdout",
     "output_type": "stream",
     "text": [
      "[1, 2, 3, 4, 5, 6]\n",
      "[1, 2, 3, 4, 5]\n"
     ]
    }
   ],
   "source": [
    "#**Recursive Function with *args and kwargs (Flattening a List)\n",
    "def flatten_list(nested_list,*args, **kwargs):\n",
    "    flat_list = []\n",
    "\n",
    "    for item in nested_list:\n",
    "        if isinstance(item,list):\n",
    "            flat_list.extend(flatten_list(item,*args,**kwargs))\n",
    "\n",
    "        else:\n",
    "            flat_list.append(item)\n",
    "\n",
    "    #if any additional behavior is passed in kwargs\n",
    "    if 'transfrom' in kwargs:\n",
    "        flat_list = [kwargs['transform'](x) for x in flat_list]\n",
    "\n",
    "    return flat_list\n",
    "\n",
    "print(flatten_list([1,[2,3],[[4,5],6]]))\n",
    "print(flatten_list([[1,2],[3,[4,[5]]]]))"
   ]
  },
  {
   "cell_type": "code",
   "execution_count": null,
   "id": "14b5b4b0-a686-485e-8336-a28ffb3d26b1",
   "metadata": {},
   "outputs": [],
   "source": []
  }
 ],
 "metadata": {
  "kernelspec": {
   "display_name": "Python 3 (ipykernel)",
   "language": "python",
   "name": "python3"
  },
  "language_info": {
   "codemirror_mode": {
    "name": "ipython",
    "version": 3
   },
   "file_extension": ".py",
   "mimetype": "text/x-python",
   "name": "python",
   "nbconvert_exporter": "python",
   "pygments_lexer": "ipython3",
   "version": "3.12.4"
  }
 },
 "nbformat": 4,
 "nbformat_minor": 5
}
