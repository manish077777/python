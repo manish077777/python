{
 "cells": [
  {
   "cell_type": "code",
   "execution_count": 1,
   "id": "d1f714f4-5eeb-4f49-b6e8-57d539d807e5",
   "metadata": {},
   "outputs": [
    {
     "name": "stdout",
     "output_type": "stream",
     "text": [
      "apple\n",
      "['apple', 'banana', 'cherry', 'orange']\n",
      "['apple', 'cherry', 'orange']\n"
     ]
    }
   ],
   "source": [
    "fruits = [\"apple\", \"banana\", \"cherry\"]\n",
    "print(fruits[0])  \n",
    "fruits.append(\"orange\")\n",
    "print(fruits)  \n",
    "fruits.remove(\"banana\")\n",
    "print(fruits)  \n"
   ]
  },
  {
   "cell_type": "code",
   "execution_count": 2,
   "id": "726a380a-5a46-462f-80da-e7deb2355871",
   "metadata": {},
   "outputs": [
    {
     "data": {
      "text/plain": [
       "([1, 2, 3, 4, 5], 2298338331520, list)"
      ]
     },
     "execution_count": 2,
     "metadata": {},
     "output_type": "execute_result"
    }
   ],
   "source": [
    "list1 = [1,2,3,4,5]\n",
    "list1,id(list1),type(list1)"
   ]
  },
  {
   "cell_type": "code",
   "execution_count": 3,
   "id": "6c2dbb02-6d0a-430d-9dfd-10cb0a2713e9",
   "metadata": {},
   "outputs": [
    {
     "data": {
      "text/plain": [
       "([1, 2, 3, 4, 5, 10], 2298338331520, list)"
      ]
     },
     "execution_count": 3,
     "metadata": {},
     "output_type": "execute_result"
    }
   ],
   "source": [
    "list1.append(10)\n",
    "list1, id(list1),type(list1)"
   ]
  },
  {
   "cell_type": "code",
   "execution_count": 4,
   "id": "295e9cb4-97e2-4709-919c-395eddb52c90",
   "metadata": {},
   "outputs": [
    {
     "data": {
      "text/plain": [
       "([2, 3, 4, 5, 10], 2298338331520, list)"
      ]
     },
     "execution_count": 4,
     "metadata": {},
     "output_type": "execute_result"
    }
   ],
   "source": [
    "list1.remove(1)\n",
    "list1,id(list1),type(list1)"
   ]
  },
  {
   "cell_type": "code",
   "execution_count": 10,
   "id": "fc1ee22f-6237-45e3-b89e-a4e711f4360e",
   "metadata": {},
   "outputs": [
    {
     "data": {
      "text/plain": [
       "((1, 2, 3), 2298338448960)"
      ]
     },
     "execution_count": 10,
     "metadata": {},
     "output_type": "execute_result"
    }
   ],
   "source": [
    "tuple1= (1,2,3)\n",
    "tuple1, id(tuple1)\n"
   ]
  },
  {
   "cell_type": "code",
   "execution_count": 11,
   "id": "ddf5319d-976e-4dbf-82d8-b31cf2ef8085",
   "metadata": {},
   "outputs": [
    {
     "data": {
      "text/plain": [
       "2"
      ]
     },
     "execution_count": 11,
     "metadata": {},
     "output_type": "execute_result"
    }
   ],
   "source": [
    "tuple1[1]"
   ]
  },
  {
   "cell_type": "code",
   "execution_count": 22,
   "id": "2f371e64-d2cb-4ad5-8ba5-d12d8bf02bd1",
   "metadata": {},
   "outputs": [
    {
     "name": "stdout",
     "output_type": "stream",
     "text": [
      "9\n",
      "h\n",
      "i\n",
      " \n",
      "p\n",
      "y\n",
      "t\n",
      "h\n",
      "o\n",
      "n\n"
     ]
    }
   ],
   "source": [
    "string1 = \"hi python\"\n",
    "lenstr = len(string1)\n",
    "print(lenstr)\n",
    "string1[0 : 9]\n",
    "\n",
    "for i in range(0, len(string1)):\n",
    "    print(string1[i])"
   ]
  },
  {
   "cell_type": "code",
   "execution_count": 27,
   "id": "10289e55-1591-44cf-b84a-7981ef660eef",
   "metadata": {},
   "outputs": [
    {
     "name": "stdout",
     "output_type": "stream",
     "text": [
      "{'i', 'o', 'u', 'e', 'a'}\n"
     ]
    }
   ],
   "source": [
    "#sets\n",
    "\n",
    "\n",
    "vowels = {\"a\",\"e\",\"i\",\"o\",\"u\"}\n",
    "print(vowels)\n",
    "#help(vowels)"
   ]
  },
  {
   "cell_type": "code",
   "execution_count": 34,
   "id": "ecd4f1c9-bde9-4d7c-8e60-64b309317c65",
   "metadata": {},
   "outputs": [
    {
     "ename": "SyntaxError",
     "evalue": "invalid syntax (3196388308.py, line 9)",
     "output_type": "error",
     "traceback": [
      "\u001b[1;36m  Cell \u001b[1;32mIn[34], line 9\u001b[1;36m\u001b[0m\n\u001b[1;33m    \"key3\" : \"val3\",\u001b[0m\n\u001b[1;37m           ^\u001b[0m\n\u001b[1;31mSyntaxError\u001b[0m\u001b[1;31m:\u001b[0m invalid syntax\n"
     ]
    }
   ],
   "source": [
    "#dictionary similar to JSON\n",
    "\n",
    "Dict1 = {\n",
    "    \"fName\": \"manish\",\n",
    "    \"key1\" : \"val1\",\n",
    "    \"key1\" : \"val2\",\n",
    "\n",
    "    \"fName\" : \"manish\"\n",
    "    \"key3\" : \"val3\",\n",
    "    \"key4\" : \"val4\"\n",
    "}\n",
    "print(Dict1[\"fname\"])"
   ]
  },
  {
   "cell_type": "code",
   "execution_count": 36,
   "id": "78c33c59-c867-4c47-a5ad-d0e5531dc99b",
   "metadata": {},
   "outputs": [
    {
     "name": "stdout",
     "output_type": "stream",
     "text": [
      "key is {} value is \n",
      "key is name value is manish\n"
     ]
    }
   ],
   "source": [
    "key =\"name\"\n",
    "val =\"manish\"\n",
    "fstr = \"key is {} value is \"\n",
    "print(fstr)\n",
    "\n",
    "fstr2 = f\"key is {key} value is {val}\"\n",
    "print(fstr2)"
   ]
  },
  {
   "cell_type": "code",
   "execution_count": 38,
   "id": "4006d3be-0245-48f8-8199-c5bed2ad1a9f",
   "metadata": {},
   "outputs": [
    {
     "data": {
      "text/plain": [
       "([[1, 2], [3, 4]], 2)"
      ]
     },
     "execution_count": 38,
     "metadata": {},
     "output_type": "execute_result"
    }
   ],
   "source": [
    "Row1 = [1,2]\n",
    "Row2 = [3,4]\n",
    "matrix =[Row1,Row2]\n",
    "matrix,len(matrix)"
   ]
  },
  {
   "cell_type": "code",
   "execution_count": 41,
   "id": "6dae5d94-82dd-417a-bd10-56ac6e6a23c0",
   "metadata": {},
   "outputs": [],
   "source": [
    "matrix[0] = 10\n"
   ]
  },
  {
   "cell_type": "code",
   "execution_count": 40,
   "id": "0e1527b9-d8d5-407c-909d-db0de0620127",
   "metadata": {},
   "outputs": [
    {
     "data": {
      "text/plain": [
       "[10, [3, 4]]"
      ]
     },
     "execution_count": 40,
     "metadata": {},
     "output_type": "execute_result"
    }
   ],
   "source": [
    "matrix\n"
   ]
  },
  {
   "cell_type": "code",
   "execution_count": 46,
   "id": "cf829680-96bd-4b2f-b4ec-3c5f96866c89",
   "metadata": {},
   "outputs": [
    {
     "data": {
      "text/plain": [
       "([1, 2, 3, 4, 11, 2, 3, 4, 0, [3, 4]], 2298345129600, list)"
      ]
     },
     "execution_count": 46,
     "metadata": {},
     "output_type": "execute_result"
    }
   ],
   "source": [
    "listA =[1,2,3,4,11,2,3,4,0,[3,4]]\n",
    "listB = listA #creating a copy of listA\n",
    "#print values id and type\n",
    "listB,id(listB),type(listB)\n",
    "\n"
   ]
  },
  {
   "cell_type": "code",
   "execution_count": 47,
   "id": "f57bcfbe-3468-442a-8dff-6cf9e435f47b",
   "metadata": {},
   "outputs": [
    {
     "data": {
      "text/plain": [
       "([0, 2, 3, 4, 11, 2, 3, 4, 0, [3, 4]], 2298345129600, list)"
      ]
     },
     "execution_count": 47,
     "metadata": {},
     "output_type": "execute_result"
    }
   ],
   "source": [
    "listB[0] = 0\n",
    "#print values id and type\n",
    "listB,id(listB),type(listB)\n"
   ]
  },
  {
   "cell_type": "code",
   "execution_count": 48,
   "id": "aa69e703-6157-4c7b-9685-9034cb6c3a0e",
   "metadata": {},
   "outputs": [
    {
     "data": {
      "text/plain": [
       "([0, 2, 3, 4, 11, 2, 3, 4, 0, [3, 4, 100]], 2298345129600, list)"
      ]
     },
     "execution_count": 48,
     "metadata": {},
     "output_type": "execute_result"
    }
   ],
   "source": [
    "listB[len(listB)-1].append(100)\n",
    "#print values id and type\n",
    "listB,id(listB),type(listB)"
   ]
  },
  {
   "cell_type": "code",
   "execution_count": null,
   "id": "ee52b80e-06b1-45e0-9c85-d8dfe131517f",
   "metadata": {},
   "outputs": [],
   "source": [
    "listA =[1,2,3,4,11,2,3,4,0,[3,4]]\n",
    "listB = listA #creating a copy of listA\n",
    "\n",
    "print(id(listA),listA)\n",
    "print(id(listB),listB)\n",
    "\n",
    "listB[0] = 0\n",
    "\n",
    "print(id(listA),listA)\n",
    "print(id(listB),listB)\n",
    "\n",
    "\n",
    "listB(len(listA),listA)\n",
    "\n"
   ]
  }
 ],
 "metadata": {
  "kernelspec": {
   "display_name": "Python 3 (ipykernel)",
   "language": "python",
   "name": "python3"
  },
  "language_info": {
   "codemirror_mode": {
    "name": "ipython",
    "version": 3
   },
   "file_extension": ".py",
   "mimetype": "text/x-python",
   "name": "python",
   "nbconvert_exporter": "python",
   "pygments_lexer": "ipython3",
   "version": "3.12.4"
  }
 },
 "nbformat": 4,
 "nbformat_minor": 5
}
