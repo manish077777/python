{
 "cells": [
  {
   "cell_type": "code",
   "execution_count": 1,
   "id": "488b045c-a5e1-4e8b-a399-667eb2521957",
   "metadata": {},
   "outputs": [
    {
     "data": {
      "text/plain": [
       "'fileHandle = open(fileName,\"wb\")\\npickle.dumb(list1,fileHandle)\\nfileHandle.close()'"
      ]
     },
     "execution_count": 1,
     "metadata": {},
     "output_type": "execute_result"
    }
   ],
   "source": [
    "import pickle\n",
    "\n",
    "list1 = [1,2,3,4,5,6]#object to be saved\n",
    "\n",
    "fileName= \"data.pickle\"#filename\n",
    "#saving object using pickle module\n",
    "\n",
    "with open(fileName,\"wb\") as  fileHandle:\n",
    "    pickle.dump(list1,fileHandle)#dump method of pickle module is used to save \n",
    "\n",
    "'''fileHandle = open(fileName,\"wb\")\n",
    "pickle.dumb(list1,fileHandle)\n",
    "fileHandle.close()'''"
   ]
  },
  {
   "cell_type": "code",
   "execution_count": 2,
   "id": "5df8334d-a907-42ef-b18a-703657354fff",
   "metadata": {},
   "outputs": [
    {
     "name": "stdout",
     "output_type": "stream",
     "text": [
      "deserialized data: [1, 2, 3, 4, 5, 6]\n"
     ]
    }
   ],
   "source": [
    "#unpickle\n",
    "import pickle \n",
    "\n",
    "#open the file in binary read mode\n",
    "\n",
    "with open(\"data.pickle\", \"rb\") as file:\n",
    "    #unpickle the python object from the file\n",
    "    loaded_data = pickle.load(file)\n",
    "\n",
    "print(\"deserialized data:\",loaded_data)"
   ]
  },
  {
   "cell_type": "code",
   "execution_count": 3,
   "id": "b5b9e09b-6057-4246-8d83-a32bba102e00",
   "metadata": {},
   "outputs": [
    {
     "name": "stdout",
     "output_type": "stream",
     "text": [
      "data read is [1, 2, 3, 4]\n",
      "its type is <class 'str'> and \n",
      "length is 12\n",
      "1, 2, 3, 4\n",
      "recovered list is ['1', ' 2', ' 3', ' 4']\n",
      " its type is <class 'list'>\n"
     ]
    }
   ],
   "source": [
    "##write a prg to save object in to file \n",
    "filePath = 'listData.txt'\n",
    "data = [1,2,3,4]\n",
    "\n",
    "with open(filePath,\"w\") as fileHandle:\n",
    "    fileHandle.write(str(data))\n",
    "\n",
    "#read the same file and recover data as list ``````````````````````````                                                                                                                                                                                                                                                                                                                             \n",
    "with open(filePath,\"r\") as fileHandle:\n",
    "    readData = fileHandle.read()\n",
    "    #print(readData)\n",
    "    print(f\"data read is {readData}\\nits type is {type(readData)} and \\nlength is {len(readData)}\")\n",
    "    tempvar = readData[1:len(readData)-1].replace(\"\",'')\n",
    "    print(tempvar)\n",
    "    listPlaceholder = tempvar.split(\",\")\n",
    "    recoveredlist = listPlaceholder\n",
    "    print(f\"recovered list is {recoveredlist}\\n its type is {type(recoveredlist)}\")"
   ]
  },
  {
   "cell_type": "code",
   "execution_count": null,
   "id": "b2aaebf5-8240-4d11-8fe0-eb548dfa0067",
   "metadata": {},
   "outputs": [],
   "source": []
  }
 ],
 "metadata": {
  "kernelspec": {
   "display_name": "Python 3 (ipykernel)",
   "language": "python",
   "name": "python3"
  },
  "language_info": {
   "codemirror_mode": {
    "name": "ipython",
    "version": 3
   },
   "file_extension": ".py",
   "mimetype": "text/x-python",
   "name": "python",
   "nbconvert_exporter": "python",
   "pygments_lexer": "ipython3",
   "version": "3.12.4"
  }
 },
 "nbformat": 4,
 "nbformat_minor": 5
}
