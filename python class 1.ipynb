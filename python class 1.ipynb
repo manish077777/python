{
 "cells": [
  {
   "cell_type": "code",
   "execution_count": 1,
   "id": "0cd839ee-6dff-47fb-a5ed-88df4f1ef55d",
   "metadata": {},
   "outputs": [
    {
     "name": "stdout",
     "output_type": "stream",
     "text": [
      "0b110\n"
     ]
    }
   ],
   "source": [
    "a = 6 \n",
    "bina = bin(a)\n",
    "print(bina)\n"
   ]
  },
  {
   "cell_type": "code",
   "execution_count": 3,
   "id": "27aba7c5-e2bf-449f-af15-c42230ae4a7a",
   "metadata": {},
   "outputs": [
    {
     "ename": "SyntaxError",
     "evalue": "invalid syntax (2018608475.py, line 2)",
     "output_type": "error",
     "traceback": [
      "\u001b[1;36m  Cell \u001b[1;32mIn[3], line 2\u001b[1;36m\u001b[0m\n\u001b[1;33m    binnot a=bin(~a)\u001b[0m\n\u001b[1;37m           ^\u001b[0m\n\u001b[1;31mSyntaxError\u001b[0m\u001b[1;31m:\u001b[0m invalid syntax\n"
     ]
    }
   ],
   "source": [
    "~a\n",
    "binnot a=bin(~a)\n",
    "print(binota)"
   ]
  },
  {
   "cell_type": "code",
   "execution_count": 8,
   "id": "013f2eb5-5cf9-4524-886e-226313339943",
   "metadata": {},
   "outputs": [
    {
     "data": {
      "text/plain": [
       "(7, 7)"
      ]
     },
     "execution_count": 8,
     "metadata": {},
     "output_type": "execute_result"
    }
   ],
   "source": [
    "a = 6 #1 1 0\n",
    "b = 1 # 0 0 1\n",
    "c = a|b\n",
    "d= a^b #xor\n",
    "c,d"
   ]
  },
  {
   "cell_type": "code",
   "execution_count": 15,
   "id": "a0397150-326e-46cc-ae21-060169ead16b",
   "metadata": {},
   "outputs": [
    {
     "data": {
      "text/plain": [
       "32"
      ]
     },
     "execution_count": 15,
     "metadata": {},
     "output_type": "execute_result"
    }
   ],
   "source": [
    "#dec #bin \n",
    "\"\"\"1 1 \n",
    "2 10\n",
    "4 100\n",
    "8 1000\n",
    "16 10000\n",
    "32 100000\n",
    "64 1000000\n",
    "128 10000000\"\"\"\n",
    "a = 128\n",
    "lshifta = a >>2 # right shift\n",
    "lshifta "
   ]
  },
  {
   "cell_type": "code",
   "execution_count": 18,
   "id": "10554f2e-be8d-4513-9cc5-c65a7c294fb9",
   "metadata": {},
   "outputs": [
    {
     "data": {
      "text/plain": [
       "512"
      ]
     },
     "execution_count": 18,
     "metadata": {},
     "output_type": "execute_result"
    }
   ],
   "source": [
    "a = 128\n",
    "rshifta = a<<2 #left shift\n",
    "rshifta"
   ]
  },
  {
   "cell_type": "code",
   "execution_count": 10,
   "id": "350c20f3-c754-48af-b831-4e40ee89cd88",
   "metadata": {},
   "outputs": [
    {
     "data": {
      "text/plain": [
       "'1'"
      ]
     },
     "execution_count": 10,
     "metadata": {},
     "output_type": "execute_result"
    }
   ],
   "source": [
    "a = \"0 1 2 3 4 5 6 7 8 9 \"\n",
    "a [2]"
   ]
  },
  {
   "cell_type": "code",
   "execution_count": 14,
   "id": "822179db-e8fd-4d49-87bb-b4ac9cb88a6a",
   "metadata": {},
   "outputs": [
    {
     "name": "stdin",
     "output_type": "stream",
     "text": [
      "enter a number 2\n"
     ]
    },
    {
     "name": "stdout",
     "output_type": "stream",
     "text": [
      "<class 'int'>\n",
      "2 x 1= 2\n",
      "2 x 2= 4\n",
      "2 x 3= 6\n",
      "2 x 4= 8\n",
      "2 x 5= 10\n",
      "2 x 6= 12\n",
      "2 x 7= 14\n",
      "2 x 8= 16\n",
      "2 x 9= 18\n",
      "2 x 10= 20\n"
     ]
    }
   ],
   "source": [
    "a = 1\n",
    "b= int(input(\"enter a number\"))\n",
    "print(type(b))\n",
    "while a <= 10:\n",
    "    print(f\"{b} x {a }= {a*b}\")\n",
    "    a=a+1\n",
    "\n",
    "\n",
    "    if a>10:\n",
    "        break #terminates loop or end loop\n",
    "    "
   ]
  },
  {
   "cell_type": "code",
   "execution_count": 18,
   "id": "e03f6eab-97c3-4df4-8f16-a8d2b5d65e0e",
   "metadata": {},
   "outputs": [
    {
     "ename": "IndentationError",
     "evalue": "unindent does not match any outer indentation level (<string>, line 12)",
     "output_type": "error",
     "traceback": [
      "\u001b[1;36m  File \u001b[1;32m<string>:12\u001b[1;36m\u001b[0m\n\u001b[1;33m    print(f\"{b} x {a }= {a*b}\")\u001b[0m\n\u001b[1;37m                               ^\u001b[0m\n\u001b[1;31mIndentationError\u001b[0m\u001b[1;31m:\u001b[0m unindent does not match any outer indentation level\n"
     ]
    }
   ],
   "source": [
    "a = 1\n",
    "b= int(input(\"enter a number\"))\n",
    "print(type(b))\n",
    "while a <= 100:\n",
    "   # print(f\"{b} x {a }= {a*b}\")\n",
    "   # a=a+1\n",
    "\n",
    "\n",
    "    if a>5:\n",
    "        continue #terminates loop or end loop\n",
    "        \n",
    "   print(f\"{b} x {a }= {a*b}\")\n",
    "   a=a+1\n",
    "   if a >20:#fail safe\n",
    "    break\n"
   ]
  },
  {
   "cell_type": "code",
   "execution_count": null,
   "id": "c79285a8-c947-4604-ba5f-e33daa532814",
   "metadata": {},
   "outputs": [],
   "source": []
  }
 ],
 "metadata": {
  "kernelspec": {
   "display_name": "Python 3 (ipykernel)",
   "language": "python",
   "name": "python3"
  },
  "language_info": {
   "codemirror_mode": {
    "name": "ipython",
    "version": 3
   },
   "file_extension": ".py",
   "mimetype": "text/x-python",
   "name": "python",
   "nbconvert_exporter": "python",
   "pygments_lexer": "ipython3",
   "version": "3.12.4"
  }
 },
 "nbformat": 4,
 "nbformat_minor": 5
}
